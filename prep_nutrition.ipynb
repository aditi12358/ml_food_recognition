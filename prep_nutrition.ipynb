{
 "cells": [
  {
   "cell_type": "code",
   "execution_count": 5,
   "id": "5c7ab25d-acc5-4ed9-a905-6685887f1f3b",
   "metadata": {},
   "outputs": [
    {
     "name": "stdout",
     "output_type": "stream",
     "text": [
      "Defaulting to user installation because normal site-packages is not writeable\n",
      "Requirement already satisfied: requests in c:\\users\\aditi\\appdata\\roaming\\python\\python312\\site-packages (2.31.0)\n",
      "Requirement already satisfied: charset-normalizer<4,>=2 in c:\\users\\aditi\\appdata\\roaming\\python\\python312\\site-packages (from requests) (3.3.2)\n",
      "Requirement already satisfied: idna<4,>=2.5 in c:\\users\\aditi\\appdata\\roaming\\python\\python312\\site-packages (from requests) (3.4)\n",
      "Requirement already satisfied: urllib3<3,>=1.21.1 in c:\\users\\aditi\\appdata\\roaming\\python\\python312\\site-packages (from requests) (2.1.0)\n",
      "Requirement already satisfied: certifi>=2017.4.17 in c:\\users\\aditi\\appdata\\roaming\\python\\python312\\site-packages (from requests) (2023.11.17)\n",
      "Note: you may need to restart the kernel to use updated packages.\n"
     ]
    },
    {
     "name": "stderr",
     "output_type": "stream",
     "text": [
      "\n",
      "[notice] A new release of pip is available: 23.3.1 -> 24.0\n",
      "[notice] To update, run: python.exe -m pip install --upgrade pip\n"
     ]
    }
   ],
   "source": [
    "pip install requests"
   ]
  },
  {
   "cell_type": "code",
   "execution_count": 1,
   "id": "e771d58f-a586-4fbd-9d3d-c6fb291571fd",
   "metadata": {},
   "outputs": [
    {
     "name": "stdout",
     "output_type": "stream",
     "text": [
      "No data found for apple_pie\n"
     ]
    },
    {
     "name": "stderr",
     "output_type": "stream",
     "text": [
      "C:\\Users\\aditi\\AppData\\Local\\Temp\\ipykernel_284\\4045481570.py:21: FutureWarning: The behavior of DataFrame concatenation with empty or all-NA entries is deprecated. In a future version, this will no longer exclude empty or all-NA columns when determining the result dtypes. To retain the old behavior, exclude the relevant entries before the concat operation.\n",
      "  nutrition_data = pd.concat([nutrition_data, pd.DataFrame({\n"
     ]
    },
    {
     "name": "stdout",
     "output_type": "stream",
     "text": [
      "No data found for french_toast\n",
      "No data found for ice_cream\n"
     ]
    }
   ],
   "source": [
    "import requests\n",
    "import pandas as pd\n",
    "\n",
    "def get_nutrition(food_name):\n",
    "    nutrition_data = pd.DataFrame(columns=['name', 'protein', 'calcium', 'fat', 'carbohydrates', 'vitamins'])\n",
    "    for name in food_name:\n",
    "        url = \"https://api.nal.usda.gov/fdc/v1/foods/search?api_key=SJdmyebqjsKZvKvtLr79kLjAvrIeGusyiibksZaz&query=\" + name\n",
    "        response = requests.get(url)\n",
    "        data = response.json()\n",
    "        flatten_json = pd.json_normalize(data[\"foods\"])\n",
    "        if not flatten_json.empty:  # Check if flatten_json is not empty\n",
    "            first_food = flatten_json.iloc[0]\n",
    "            first_food_nutrition_list = first_food.foodNutrients\n",
    "            protein = next((item['value'] for item in first_food_nutrition_list if item['nutrientNumber'] == \"203\"), 0)\n",
    "            calcium = next((item['value'] for item in first_food_nutrition_list if item['nutrientNumber'] == \"301\"), 0)\n",
    "            fat = next((item['value'] for item in first_food_nutrition_list if item['nutrientNumber'] == \"204\"), 0)\n",
    "            carbs = next((item['value'] for item in first_food_nutrition_list if item['nutrientNumber'] == \"205\"), 0)\n",
    "            vitamin_a = next((item['value'] for item in first_food_nutrition_list if item['nutrientNumber'] == \"318\"), 0)\n",
    "            vitamin_c = next((item['value'] for item in first_food_nutrition_list if item['nutrientNumber'] == \"401\"), 0)\n",
    "            vitamins = float(vitamin_a) + float(vitamin_c)\n",
    "            nutrition_data = pd.concat([nutrition_data, pd.DataFrame({\n",
    "                'name': [name],\n",
    "                'protein': [protein],\n",
    "                'calcium': [calcium / 1000],\n",
    "                'fat': [fat],\n",
    "                'carbohydrates': [carbs],\n",
    "                'vitamins': [vitamins / 1000]\n",
    "            })], ignore_index=True)\n",
    "        else:\n",
    "            print(f\"No data found for {name}\")\n",
    "\n",
    "    return nutrition_data\n",
    "\n",
    "food_items = ['apple_pie', 'bibimbap', 'cannoli', 'edamame', 'falafel', 'french_toast', 'ice_cream', 'ramen', 'sushi', 'tiramisu']\n",
    "\n",
    "nutrition_data = get_nutrition(food_items)\n",
    "nutrition_data.to_csv(\"nutrition_infor.csv\", index=False)\n"
   ]
  },
  {
   "cell_type": "code",
   "execution_count": 1,
   "id": "fad5e130-192c-4568-a59e-5b29a75d6206",
   "metadata": {},
   "outputs": [
    {
     "name": "stdout",
     "output_type": "stream",
     "text": [
      "No data found for apple_pie\n",
      "No data found for french_toast\n",
      "No data found for ice_cream\n"
     ]
    }
   ],
   "source": [
    "import requests\n",
    "import pandas as pd\n",
    "\n",
    "# Your API key from the USDA FoodData Central website\n",
    "api_key = 'SJdmyebqjsKZvKvtLr79kLjAvrIeGusyiibksZaz'\n",
    "\n",
    "# Base URL for the API\n",
    "base_url = 'https://api.nal.usda.gov/fdc/v1/'\n",
    "\n",
    "# Function to get nutritional information for a food item\n",
    "def get_nutrition(food_name):\n",
    "    url = base_url + f\"foods/search?api_key={api_key}&query={food_name}\"\n",
    "    response = requests.get(url)\n",
    "    if response.status_code == 200:\n",
    "        data = response.json()\n",
    "        if 'foods' in data and data['foods']:\n",
    "            food = data['foods'][0]\n",
    "            nutrients = food.get('foodNutrients', [])\n",
    "            nutrition_info = {\n",
    "                'name': food_name,\n",
    "                'protein': next((nutrient['value'] for nutrient in nutrients if nutrient['nutrientName'] == 'Protein'), 0),\n",
    "                'calcium': next((nutrient['value'] for nutrient in nutrients if nutrient['nutrientName'] == 'Calcium, Ca'), 0),\n",
    "                'fat': next((nutrient['value'] for nutrient in nutrients if nutrient['nutrientName'] == 'Total lipid (fat)'), 0),\n",
    "                'carbohydrates': next((nutrient['value'] for nutrient in nutrients if nutrient['nutrientName'] == 'Carbohydrate, by difference'), 0),\n",
    "                'vitamin_a': next((nutrient['value'] for nutrient in nutrients if nutrient['nutrientName'] == 'Vitamin A, IU'), 0),\n",
    "                'vitamin_c': next((nutrient['value'] for nutrient in nutrients if nutrient['nutrientName'] == 'Vitamin C, total ascorbic acid'), 0)\n",
    "            }\n",
    "            return nutrition_info\n",
    "    print(f\"No data found for {food_name}\")\n",
    "    return None\n",
    "\n",
    "# List of food items\n",
    "food_items = ['apple_pie', 'bibimbap', 'cannoli', 'edamame', 'falafel', 'french_toast', 'ice_cream', 'ramen', 'sushi', 'tiramisu']\n",
    "\n",
    "# List to store the nutritional information for each food item\n",
    "nutrition_data = []\n",
    "\n",
    "# Retrieve nutritional information for each food item\n",
    "for food_item in food_items:\n",
    "    nutrition_info = get_nutrition(food_item)\n",
    "    if nutrition_info:\n",
    "        nutrition_data.append(nutrition_info)\n",
    "\n",
    "# Create a DataFrame from the nutrition data\n",
    "nutrition_df = pd.DataFrame(nutrition_data)\n",
    "\n",
    "# Save the DataFrame to a CSV file\n",
    "nutrition_df.to_csv('nutrition_infor.csv', index=False)\n"
   ]
  }
 ],
 "metadata": {
  "kernelspec": {
   "display_name": "Python 3 (ipykernel)",
   "language": "python",
   "name": "python3"
  },
  "language_info": {
   "codemirror_mode": {
    "name": "ipython",
    "version": 3
   },
   "file_extension": ".py",
   "mimetype": "text/x-python",
   "name": "python",
   "nbconvert_exporter": "python",
   "pygments_lexer": "ipython3",
   "version": "3.12.0"
  }
 },
 "nbformat": 4,
 "nbformat_minor": 5
}
